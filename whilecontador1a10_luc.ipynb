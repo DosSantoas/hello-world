{
  "nbformat": 4,
  "nbformat_minor": 0,
  "metadata": {
    "colab": {
      "provenance": [],
      "authorship_tag": "ABX9TyPOV4pTvs4v+kIjr7vHQl3R",
      "include_colab_link": true
    },
    "kernelspec": {
      "name": "python3",
      "display_name": "Python 3"
    },
    "language_info": {
      "name": "python"
    }
  },
  "cells": [
    {
      "cell_type": "markdown",
      "metadata": {
        "id": "view-in-github",
        "colab_type": "text"
      },
      "source": [
        "<a href=\"https://colab.research.google.com/github/DosSantoas/hello-world/blob/main/whilecontador1a10_luc.ipynb\" target=\"_parent\"><img src=\"https://colab.research.google.com/assets/colab-badge.svg\" alt=\"Open In Colab\"/></a>"
      ]
    },
    {
      "cell_type": "code",
      "execution_count": 1,
      "metadata": {
        "colab": {
          "base_uri": "https://localhost:8080/"
        },
        "id": "8uJ9wQYbrwlt",
        "outputId": "81614635-83c0-41e2-9e01-89103c891ef4"
      },
      "outputs": [
        {
          "output_type": "stream",
          "name": "stdout",
          "text": [
            "1\n",
            "2\n",
            "3\n",
            "4\n",
            "5\n",
            "6\n",
            "7\n",
            "8\n",
            "9\n",
            "10\n",
            "Fim\n"
          ]
        }
      ],
      "source": [
        "c = 1\n",
        "while c <= 10:\n",
        "  print(c)\n",
        "  c = c + 1\n",
        "print('Fim')\n"
      ]
    },
    {
      "cell_type": "markdown",
      "source": [
        "for c in range (1,10):\n",
        " print(c)\n",
        "print(Fim)\n"
      ],
      "metadata": {
        "id": "IvTBMbX3w9Jk"
      }
    },
    {
      "cell_type": "markdown",
      "source": [
        "# Nova seção"
      ],
      "metadata": {
        "id": "VgDxKa6cwZ-1"
      }
    }
  ]
}